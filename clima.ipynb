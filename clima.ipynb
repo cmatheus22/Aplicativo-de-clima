{
  "nbformat": 4,
  "nbformat_minor": 0,
  "metadata": {
    "colab": {
      "private_outputs": true,
      "provenance": [],
      "authorship_tag": "ABX9TyODJNutgq06vVqh/ca0BUb7",
      "include_colab_link": true
    },
    "kernelspec": {
      "name": "python3",
      "display_name": "Python 3"
    },
    "language_info": {
      "name": "python"
    }
  },
  "cells": [
    {
      "cell_type": "markdown",
      "metadata": {
        "id": "view-in-github",
        "colab_type": "text"
      },
      "source": [
        "<a href=\"https://colab.research.google.com/github/cmatheus22/Aplicativo-de-clima/blob/main/clima.ipynb\" target=\"_parent\"><img src=\"https://colab.research.google.com/assets/colab-badge.svg\" alt=\"Open In Colab\"/></a>"
      ]
    },
    {
      "cell_type": "code",
      "execution_count": null,
      "metadata": {
        "id": "DKSurjPI4L-f"
      },
      "outputs": [],
      "source": [
        "import requests\n",
        "\n",
        "def get_weather(city):\n",
        "    api_key = 'sua_chave_de_api'\n",
        "    base_url = 'https://api.weather.com'\n",
        "    endpoint = '/data/2.5/weather'\n",
        "    params = {\n",
        "        'q': city,\n",
        "        'appid': api_key,\n",
        "        'units': 'metric'  # Altere para 'imperial' para Fahrenheit\n",
        "    }\n",
        "\n",
        "    response = requests.get(base_url + endpoint, params=params)\n",
        "    data = response.json()\n",
        "\n",
        "    if response.status_code == 200:\n",
        "        temperature = data['main']['temp']\n",
        "        weather_desc = data['weather'][0]['description']\n",
        "        return f'Temperatura em {city}: {temperature}°C, {weather_desc}'\n",
        "    else:\n",
        "        return 'Não foi possível obter a previsão do tempo.'\n",
        "\n",
        "def main():\n",
        "    city = input('Digite o nome da cidade: ')\n",
        "    weather = get_weather(city)\n",
        "    print(weather)\n",
        "\n",
        "if __name__ == '__main__':\n",
        "    main()"
      ]
    }
  ]
}